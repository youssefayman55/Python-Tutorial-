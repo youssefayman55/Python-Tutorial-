{
 "cells": [
  {
   "cell_type": "markdown",
   "id": "3cba1a82",
   "metadata": {
    "papermill": {
     "duration": 0.032323,
     "end_time": "2024-10-09T19:36:30.677617",
     "exception": false,
     "start_time": "2024-10-09T19:36:30.645294",
     "status": "completed"
    },
    "tags": []
   },
   "source": [
    "# What is a programming language?"
   ]
  },
  {
   "cell_type": "markdown",
   "id": "0aace89c",
   "metadata": {
    "papermill": {
     "duration": 0.030071,
     "end_time": "2024-10-09T19:36:30.737211",
     "exception": false,
     "start_time": "2024-10-09T19:36:30.707140",
     "status": "completed"
    },
    "tags": []
   },
   "source": [
    "\n",
    "A programming language is a set of instructions \n",
    "and commands that a person can write and direct to a computer \n",
    "or any other device to carry out certain tasks. \n",
    "Programming language is the medium that allows programmers \n",
    "to communicate with devices, as the instructions they \n",
    "write can be translated into a language that \n",
    "the device understands (machine language) \n",
    "to execute the required commands."
   ]
  },
  {
   "cell_type": "markdown",
   "id": "d488b194",
   "metadata": {
    "papermill": {
     "duration": 0.029838,
     "end_time": "2024-10-09T19:36:30.797392",
     "exception": false,
     "start_time": "2024-10-09T19:36:30.767554",
     "status": "completed"
    },
    "tags": []
   },
   "source": [
    "# What is Python?"
   ]
  },
  {
   "cell_type": "markdown",
   "id": "c6bb9baf",
   "metadata": {
    "papermill": {
     "duration": 0.028833,
     "end_time": "2024-10-09T19:36:30.856294",
     "exception": false,
     "start_time": "2024-10-09T19:36:30.827461",
     "status": "completed"
    },
    "tags": []
   },
   "source": [
    "Python is a high-level, easy-to-learn programming language, characterized by simple grammar and easy-to-read code. It is designed to be flexible and used in many different applications such as web development, data analysis, artificial intelligence, automation, and others."
   ]
  },
  {
   "cell_type": "markdown",
   "id": "5af0be3b",
   "metadata": {
    "papermill": {
     "duration": 0.029225,
     "end_time": "2024-10-09T19:36:30.915472",
     "exception": false,
     "start_time": "2024-10-09T19:36:30.886247",
     "status": "completed"
    },
    "tags": []
   },
   "source": [
    "# print Function"
   ]
  },
  {
   "cell_type": "code",
   "execution_count": 1,
   "id": "9f4208a8",
   "metadata": {
    "execution": {
     "iopub.execute_input": "2024-10-09T19:36:30.975783Z",
     "iopub.status.busy": "2024-10-09T19:36:30.975293Z",
     "iopub.status.idle": "2024-10-09T19:36:30.990749Z",
     "shell.execute_reply": "2024-10-09T19:36:30.989153Z"
    },
    "papermill": {
     "duration": 0.049759,
     "end_time": "2024-10-09T19:36:30.994449",
     "exception": false,
     "start_time": "2024-10-09T19:36:30.944690",
     "status": "completed"
    },
    "tags": []
   },
   "outputs": [
    {
     "name": "stdout",
     "output_type": "stream",
     "text": [
      "My Name Is : Youssef \n",
      "My Age Is : 22\n",
      "5\n",
      "3.1\n"
     ]
    }
   ],
   "source": [
    "print(\"My Name Is : Youssef \")\n",
    "print('My Age Is : 22')\n",
    "print(5)\n",
    "print(3.1)"
   ]
  },
  {
   "cell_type": "markdown",
   "id": "c04412bc",
   "metadata": {
    "papermill": {
     "duration": 0.029128,
     "end_time": "2024-10-09T19:36:31.056517",
     "exception": false,
     "start_time": "2024-10-09T19:36:31.027389",
     "status": "completed"
    },
    "tags": []
   },
   "source": [
    "# there are two ways to write a comment \n"
   ]
  },
  {
   "cell_type": "code",
   "execution_count": 2,
   "id": "7ff60f16",
   "metadata": {
    "execution": {
     "iopub.execute_input": "2024-10-09T19:36:31.118193Z",
     "iopub.status.busy": "2024-10-09T19:36:31.117692Z",
     "iopub.status.idle": "2024-10-09T19:36:31.127764Z",
     "shell.execute_reply": "2024-10-09T19:36:31.126315Z"
    },
    "papermill": {
     "duration": 0.045212,
     "end_time": "2024-10-09T19:36:31.131113",
     "exception": false,
     "start_time": "2024-10-09T19:36:31.085901",
     "status": "completed"
    },
    "tags": []
   },
   "outputs": [
    {
     "data": {
      "text/plain": [
       "'\\nhi,\\nmy name is ali\\nand i am a data scientist \\n'"
      ]
     },
     "execution_count": 2,
     "metadata": {},
     "output_type": "execute_result"
    }
   ],
   "source": [
    "# the first way (line) \n",
    "# this is a line of comment \n",
    "\n",
    "# the second way (multi line comment)\n",
    "\"\"\"\n",
    "hi,\n",
    "my name is ali\n",
    "and i am a data scientist \n",
    "\"\"\""
   ]
  },
  {
   "cell_type": "markdown",
   "id": "330ebb33",
   "metadata": {
    "papermill": {
     "duration": 0.029461,
     "end_time": "2024-10-09T19:36:31.193836",
     "exception": false,
     "start_time": "2024-10-09T19:36:31.164375",
     "status": "completed"
    },
    "tags": []
   },
   "source": [
    "# Variables (Containers)\n"
   ]
  },
  {
   "cell_type": "code",
   "execution_count": 3,
   "id": "51167ee4",
   "metadata": {
    "execution": {
     "iopub.execute_input": "2024-10-09T19:36:31.255885Z",
     "iopub.status.busy": "2024-10-09T19:36:31.255408Z",
     "iopub.status.idle": "2024-10-09T19:36:31.261543Z",
     "shell.execute_reply": "2024-10-09T19:36:31.260022Z"
    },
    "papermill": {
     "duration": 0.041096,
     "end_time": "2024-10-09T19:36:31.264862",
     "exception": false,
     "start_time": "2024-10-09T19:36:31.223766",
     "status": "completed"
    },
    "tags": []
   },
   "outputs": [],
   "source": [
    "x = 5 \n",
    "y = 5.5\n",
    "name = \"ahmed\""
   ]
  },
  {
   "cell_type": "code",
   "execution_count": 4,
   "id": "9ef88963",
   "metadata": {
    "execution": {
     "iopub.execute_input": "2024-10-09T19:36:31.325556Z",
     "iopub.status.busy": "2024-10-09T19:36:31.325081Z",
     "iopub.status.idle": "2024-10-09T19:36:31.331829Z",
     "shell.execute_reply": "2024-10-09T19:36:31.330755Z"
    },
    "papermill": {
     "duration": 0.040338,
     "end_time": "2024-10-09T19:36:31.334392",
     "exception": false,
     "start_time": "2024-10-09T19:36:31.294054",
     "status": "completed"
    },
    "tags": []
   },
   "outputs": [
    {
     "name": "stdout",
     "output_type": "stream",
     "text": [
      "<class 'int'>\n",
      "<class 'float'>\n",
      "<class 'str'>\n"
     ]
    }
   ],
   "source": [
    "print(type(x))\n",
    "print(type(y))\n",
    "print(type(name))"
   ]
  },
  {
   "cell_type": "markdown",
   "id": "28e4ae92",
   "metadata": {
    "papermill": {
     "duration": 0.029436,
     "end_time": "2024-10-09T19:36:31.393340",
     "exception": false,
     "start_time": "2024-10-09T19:36:31.363904",
     "status": "completed"
    },
    "tags": []
   },
   "source": [
    "# Strings"
   ]
  },
  {
   "cell_type": "code",
   "execution_count": 5,
   "id": "d23b8f98",
   "metadata": {
    "execution": {
     "iopub.execute_input": "2024-10-09T19:36:31.455746Z",
     "iopub.status.busy": "2024-10-09T19:36:31.455352Z",
     "iopub.status.idle": "2024-10-09T19:36:31.461988Z",
     "shell.execute_reply": "2024-10-09T19:36:31.460272Z"
    },
    "papermill": {
     "duration": 0.040749,
     "end_time": "2024-10-09T19:36:31.465140",
     "exception": false,
     "start_time": "2024-10-09T19:36:31.424391",
     "status": "completed"
    },
    "tags": []
   },
   "outputs": [],
   "source": [
    "name1 = 'ahmed'\n",
    "name2 = \"ahmed ali\""
   ]
  },
  {
   "cell_type": "code",
   "execution_count": 6,
   "id": "414f1c82",
   "metadata": {
    "execution": {
     "iopub.execute_input": "2024-10-09T19:36:31.527529Z",
     "iopub.status.busy": "2024-10-09T19:36:31.526628Z",
     "iopub.status.idle": "2024-10-09T19:36:31.533555Z",
     "shell.execute_reply": "2024-10-09T19:36:31.531957Z"
    },
    "papermill": {
     "duration": 0.041513,
     "end_time": "2024-10-09T19:36:31.536918",
     "exception": false,
     "start_time": "2024-10-09T19:36:31.495405",
     "status": "completed"
    },
    "tags": []
   },
   "outputs": [
    {
     "name": "stdout",
     "output_type": "stream",
     "text": [
      "name1\n",
      "name2\n"
     ]
    }
   ],
   "source": [
    "print(\"name1\")\n",
    "print('name2')"
   ]
  },
  {
   "cell_type": "code",
   "execution_count": 7,
   "id": "5c170460",
   "metadata": {
    "execution": {
     "iopub.execute_input": "2024-10-09T19:36:31.598700Z",
     "iopub.status.busy": "2024-10-09T19:36:31.598269Z",
     "iopub.status.idle": "2024-10-09T19:36:31.604782Z",
     "shell.execute_reply": "2024-10-09T19:36:31.603239Z"
    },
    "papermill": {
     "duration": 0.040738,
     "end_time": "2024-10-09T19:36:31.607484",
     "exception": false,
     "start_time": "2024-10-09T19:36:31.566746",
     "status": "completed"
    },
    "tags": []
   },
   "outputs": [
    {
     "name": "stdout",
     "output_type": "stream",
     "text": [
      "ahmed\n",
      "ahmed ali\n"
     ]
    }
   ],
   "source": [
    "print(name1)\n",
    "print(name2)"
   ]
  },
  {
   "cell_type": "code",
   "execution_count": 8,
   "id": "bd985f6b",
   "metadata": {
    "execution": {
     "iopub.execute_input": "2024-10-09T19:36:31.670596Z",
     "iopub.status.busy": "2024-10-09T19:36:31.670102Z",
     "iopub.status.idle": "2024-10-09T19:36:31.677964Z",
     "shell.execute_reply": "2024-10-09T19:36:31.676396Z"
    },
    "papermill": {
     "duration": 0.043056,
     "end_time": "2024-10-09T19:36:31.681321",
     "exception": false,
     "start_time": "2024-10-09T19:36:31.638265",
     "status": "completed"
    },
    "tags": []
   },
   "outputs": [
    {
     "name": "stdout",
     "output_type": "stream",
     "text": [
      "a\n",
      "h\n",
      "m\n",
      "e\n",
      "d\n"
     ]
    }
   ],
   "source": [
    "print(name1[0])\n",
    "print(name1[1])\n",
    "print(name1[2])\n",
    "print(name1[3])\n",
    "print(name1[4])"
   ]
  },
  {
   "cell_type": "code",
   "execution_count": 9,
   "id": "3a894d29",
   "metadata": {
    "execution": {
     "iopub.execute_input": "2024-10-09T19:36:31.748446Z",
     "iopub.status.busy": "2024-10-09T19:36:31.747443Z",
     "iopub.status.idle": "2024-10-09T19:36:31.756674Z",
     "shell.execute_reply": "2024-10-09T19:36:31.754667Z"
    },
    "papermill": {
     "duration": 0.045814,
     "end_time": "2024-10-09T19:36:31.759713",
     "exception": false,
     "start_time": "2024-10-09T19:36:31.713899",
     "status": "completed"
    },
    "tags": []
   },
   "outputs": [
    {
     "name": "stdout",
     "output_type": "stream",
     "text": [
      "i\n",
      "l\n",
      "a\n",
      " \n",
      "d\n"
     ]
    }
   ],
   "source": [
    "print(name2[-1])\n",
    "print(name2[-2])\n",
    "print(name2[-3])\n",
    "print(name2[-4])\n",
    "print(name2[-5])"
   ]
  },
  {
   "cell_type": "code",
   "execution_count": 10,
   "id": "a3878fa2",
   "metadata": {
    "execution": {
     "iopub.execute_input": "2024-10-09T19:36:31.824935Z",
     "iopub.status.busy": "2024-10-09T19:36:31.823847Z",
     "iopub.status.idle": "2024-10-09T19:36:31.830450Z",
     "shell.execute_reply": "2024-10-09T19:36:31.829294Z"
    },
    "papermill": {
     "duration": 0.040891,
     "end_time": "2024-10-09T19:36:31.833021",
     "exception": false,
     "start_time": "2024-10-09T19:36:31.792130",
     "status": "completed"
    },
    "tags": []
   },
   "outputs": [
    {
     "name": "stdout",
     "output_type": "stream",
     "text": [
      "youssef \n",
      " ayman\n",
      "youssef \n",
      "ayman\n"
     ]
    }
   ],
   "source": [
    "name1 = 'youssef \\n ayman'\n",
    "name2 = 'youssef \\nayman'\n",
    "\n",
    "print(name1)\n",
    "print(name2)"
   ]
  },
  {
   "cell_type": "code",
   "execution_count": 11,
   "id": "fc95f242",
   "metadata": {
    "execution": {
     "iopub.execute_input": "2024-10-09T19:36:31.896771Z",
     "iopub.status.busy": "2024-10-09T19:36:31.896301Z",
     "iopub.status.idle": "2024-10-09T19:36:31.903345Z",
     "shell.execute_reply": "2024-10-09T19:36:31.901755Z"
    },
    "papermill": {
     "duration": 0.042379,
     "end_time": "2024-10-09T19:36:31.906416",
     "exception": false,
     "start_time": "2024-10-09T19:36:31.864037",
     "status": "completed"
    },
    "tags": []
   },
   "outputs": [
    {
     "name": "stdout",
     "output_type": "stream",
     "text": [
      "youssef \n",
      " ayman\n",
      "youssef \n",
      "ayman\n"
     ]
    }
   ],
   "source": [
    "name1 = 'youssef \\n ayman'\n",
    "name2 = 'youssef \\nayman'\n",
    "\n",
    "print(name1)\n",
    "print(name2)"
   ]
  },
  {
   "cell_type": "code",
   "execution_count": 12,
   "id": "901d7669",
   "metadata": {
    "execution": {
     "iopub.execute_input": "2024-10-09T19:36:31.969887Z",
     "iopub.status.busy": "2024-10-09T19:36:31.968938Z",
     "iopub.status.idle": "2024-10-09T19:36:31.975247Z",
     "shell.execute_reply": "2024-10-09T19:36:31.974199Z"
    },
    "papermill": {
     "duration": 0.041591,
     "end_time": "2024-10-09T19:36:31.978134",
     "exception": false,
     "start_time": "2024-10-09T19:36:31.936543",
     "status": "completed"
    },
    "tags": []
   },
   "outputs": [
    {
     "name": "stdout",
     "output_type": "stream",
     "text": [
      "youssef \t ayman\n",
      "youssef \tayman\n"
     ]
    }
   ],
   "source": [
    "name1 = 'youssef \\t ayman'\n",
    "name2 = 'youssef \\tayman'\n",
    "\n",
    "print(name1)\n",
    "print(name2)\n"
   ]
  },
  {
   "cell_type": "code",
   "execution_count": 13,
   "id": "a9d0af37",
   "metadata": {
    "execution": {
     "iopub.execute_input": "2024-10-09T19:36:32.055463Z",
     "iopub.status.busy": "2024-10-09T19:36:32.055011Z",
     "iopub.status.idle": "2024-10-09T19:36:32.063332Z",
     "shell.execute_reply": "2024-10-09T19:36:32.061897Z"
    },
    "papermill": {
     "duration": 0.056013,
     "end_time": "2024-10-09T19:36:32.066584",
     "exception": false,
     "start_time": "2024-10-09T19:36:32.010571",
     "status": "completed"
    },
    "tags": []
   },
   "outputs": [
    {
     "name": "stdout",
     "output_type": "stream",
     "text": [
      "ahmedyoussef\n",
      "ahmed youssef\n"
     ]
    }
   ],
   "source": [
    "text = 'ahmed'\n",
    "print(text + \"youssef\")\n",
    "print(text + ' ' +\"youssef\")"
   ]
  },
  {
   "cell_type": "markdown",
   "id": "d88c8faa",
   "metadata": {
    "papermill": {
     "duration": 0.032259,
     "end_time": "2024-10-09T19:36:32.144363",
     "exception": false,
     "start_time": "2024-10-09T19:36:32.112104",
     "status": "completed"
    },
    "tags": []
   },
   "source": [
    "# Functions "
   ]
  },
  {
   "cell_type": "code",
   "execution_count": 14,
   "id": "fcc476f0",
   "metadata": {
    "execution": {
     "iopub.execute_input": "2024-10-09T19:36:32.210807Z",
     "iopub.status.busy": "2024-10-09T19:36:32.210247Z",
     "iopub.status.idle": "2024-10-09T19:36:32.218077Z",
     "shell.execute_reply": "2024-10-09T19:36:32.216576Z"
    },
    "papermill": {
     "duration": 0.044116,
     "end_time": "2024-10-09T19:36:32.221482",
     "exception": false,
     "start_time": "2024-10-09T19:36:32.177366",
     "status": "completed"
    },
    "tags": []
   },
   "outputs": [
    {
     "name": "stdout",
     "output_type": "stream",
     "text": [
      "Hello\n"
     ]
    }
   ],
   "source": [
    "def Say_hello():\n",
    "    print(\"Hello\")\n",
    "    \n",
    "Say_hello()"
   ]
  },
  {
   "cell_type": "code",
   "execution_count": 15,
   "id": "5b044975",
   "metadata": {
    "execution": {
     "iopub.execute_input": "2024-10-09T19:36:32.292870Z",
     "iopub.status.busy": "2024-10-09T19:36:32.292316Z",
     "iopub.status.idle": "2024-10-09T19:36:32.300284Z",
     "shell.execute_reply": "2024-10-09T19:36:32.298771Z"
    },
    "papermill": {
     "duration": 0.049939,
     "end_time": "2024-10-09T19:36:32.303557",
     "exception": false,
     "start_time": "2024-10-09T19:36:32.253618",
     "status": "completed"
    },
    "tags": []
   },
   "outputs": [
    {
     "name": "stdout",
     "output_type": "stream",
     "text": [
      "Hello youssef\n"
     ]
    }
   ],
   "source": [
    "def Say_hello(name):\n",
    "    print(\"Hello\"+ ' ' + name)\n",
    "    \n",
    "Say_hello('youssef')"
   ]
  },
  {
   "cell_type": "code",
   "execution_count": 16,
   "id": "6e056a9a",
   "metadata": {
    "execution": {
     "iopub.execute_input": "2024-10-09T19:36:32.372587Z",
     "iopub.status.busy": "2024-10-09T19:36:32.371094Z",
     "iopub.status.idle": "2024-10-09T19:36:32.380038Z",
     "shell.execute_reply": "2024-10-09T19:36:32.378119Z"
    },
    "papermill": {
     "duration": 0.046663,
     "end_time": "2024-10-09T19:36:32.383374",
     "exception": false,
     "start_time": "2024-10-09T19:36:32.336711",
     "status": "completed"
    },
    "tags": []
   },
   "outputs": [
    {
     "name": "stdout",
     "output_type": "stream",
     "text": [
      "Hello youssef and your age is 22\n"
     ]
    }
   ],
   "source": [
    "def Say_hello(name , age):\n",
    "    print(f'Hello {name} and your age is {age}')\n",
    "    \n",
    "Say_hello('youssef' , 22)"
   ]
  },
  {
   "cell_type": "code",
   "execution_count": 17,
   "id": "d4e7749f",
   "metadata": {
    "execution": {
     "iopub.execute_input": "2024-10-09T19:36:32.456309Z",
     "iopub.status.busy": "2024-10-09T19:36:32.455743Z",
     "iopub.status.idle": "2024-10-09T19:36:32.467935Z",
     "shell.execute_reply": "2024-10-09T19:36:32.466443Z"
    },
    "papermill": {
     "duration": 0.05539,
     "end_time": "2024-10-09T19:36:32.470923",
     "exception": false,
     "start_time": "2024-10-09T19:36:32.415533",
     "status": "completed"
    },
    "tags": []
   },
   "outputs": [
    {
     "data": {
      "text/plain": [
       "8"
      ]
     },
     "execution_count": 17,
     "metadata": {},
     "output_type": "execute_result"
    }
   ],
   "source": [
    "def addition(num1 , num2):\n",
    "    return num1  + num2\n",
    "\n",
    "addition(4,4)"
   ]
  },
  {
   "cell_type": "code",
   "execution_count": 18,
   "id": "50842996",
   "metadata": {
    "execution": {
     "iopub.execute_input": "2024-10-09T19:36:32.537212Z",
     "iopub.status.busy": "2024-10-09T19:36:32.536614Z",
     "iopub.status.idle": "2024-10-09T19:36:32.547018Z",
     "shell.execute_reply": "2024-10-09T19:36:32.545457Z"
    },
    "papermill": {
     "duration": 0.046511,
     "end_time": "2024-10-09T19:36:32.549882",
     "exception": false,
     "start_time": "2024-10-09T19:36:32.503371",
     "status": "completed"
    },
    "tags": []
   },
   "outputs": [
    {
     "data": {
      "text/plain": [
       "5"
      ]
     },
     "execution_count": 18,
     "metadata": {},
     "output_type": "execute_result"
    }
   ],
   "source": [
    "def Subtraction(num1 , num2):\n",
    "    return num1 - num2 \n",
    "\n",
    "Subtraction(10,5)"
   ]
  },
  {
   "cell_type": "markdown",
   "id": "b9b12e52",
   "metadata": {
    "papermill": {
     "duration": 0.034576,
     "end_time": "2024-10-09T19:36:32.620700",
     "exception": false,
     "start_time": "2024-10-09T19:36:32.586124",
     "status": "completed"
    },
    "tags": []
   },
   "source": [
    "# bulit-in fuction "
   ]
  },
  {
   "cell_type": "markdown",
   "id": "476d5468",
   "metadata": {
    "papermill": {
     "duration": 0.031963,
     "end_time": "2024-10-09T19:36:32.684779",
     "exception": false,
     "start_time": "2024-10-09T19:36:32.652816",
     "status": "completed"
    },
    "tags": []
   },
   "source": [
    "# 1- Lower Function"
   ]
  },
  {
   "cell_type": "code",
   "execution_count": 19,
   "id": "28e2d9b0",
   "metadata": {
    "execution": {
     "iopub.execute_input": "2024-10-09T19:36:32.751799Z",
     "iopub.status.busy": "2024-10-09T19:36:32.751103Z",
     "iopub.status.idle": "2024-10-09T19:36:32.759609Z",
     "shell.execute_reply": "2024-10-09T19:36:32.758207Z"
    },
    "papermill": {
     "duration": 0.04702,
     "end_time": "2024-10-09T19:36:32.764054",
     "exception": false,
     "start_time": "2024-10-09T19:36:32.717034",
     "status": "completed"
    },
    "tags": []
   },
   "outputs": [
    {
     "name": "stdout",
     "output_type": "stream",
     "text": [
      "youssef\n"
     ]
    }
   ],
   "source": [
    "text = 'YOUSSEF'\n",
    "print(text.lower())"
   ]
  },
  {
   "cell_type": "markdown",
   "id": "a94a0497",
   "metadata": {
    "papermill": {
     "duration": 0.030576,
     "end_time": "2024-10-09T19:36:32.829393",
     "exception": false,
     "start_time": "2024-10-09T19:36:32.798817",
     "status": "completed"
    },
    "tags": []
   },
   "source": [
    "# 2- Upper Fuction"
   ]
  },
  {
   "cell_type": "code",
   "execution_count": 20,
   "id": "fffb92e3",
   "metadata": {
    "execution": {
     "iopub.execute_input": "2024-10-09T19:36:32.899109Z",
     "iopub.status.busy": "2024-10-09T19:36:32.898434Z",
     "iopub.status.idle": "2024-10-09T19:36:32.908167Z",
     "shell.execute_reply": "2024-10-09T19:36:32.906134Z"
    },
    "papermill": {
     "duration": 0.049045,
     "end_time": "2024-10-09T19:36:32.911612",
     "exception": false,
     "start_time": "2024-10-09T19:36:32.862567",
     "status": "completed"
    },
    "tags": []
   },
   "outputs": [
    {
     "name": "stdout",
     "output_type": "stream",
     "text": [
      "YOUSSEF\n"
     ]
    }
   ],
   "source": [
    "text = 'youssef'\n",
    "print(text.upper())"
   ]
  },
  {
   "cell_type": "markdown",
   "id": "61bd5803",
   "metadata": {
    "papermill": {
     "duration": 0.032815,
     "end_time": "2024-10-09T19:36:32.978760",
     "exception": false,
     "start_time": "2024-10-09T19:36:32.945945",
     "status": "completed"
    },
    "tags": []
   },
   "source": [
    "# 3- islower Function"
   ]
  },
  {
   "cell_type": "code",
   "execution_count": 21,
   "id": "ce14623b",
   "metadata": {
    "execution": {
     "iopub.execute_input": "2024-10-09T19:36:33.048411Z",
     "iopub.status.busy": "2024-10-09T19:36:33.047759Z",
     "iopub.status.idle": "2024-10-09T19:36:33.056253Z",
     "shell.execute_reply": "2024-10-09T19:36:33.054621Z"
    },
    "papermill": {
     "duration": 0.047456,
     "end_time": "2024-10-09T19:36:33.059362",
     "exception": false,
     "start_time": "2024-10-09T19:36:33.011906",
     "status": "completed"
    },
    "tags": []
   },
   "outputs": [
    {
     "name": "stdout",
     "output_type": "stream",
     "text": [
      "True\n",
      "False\n"
     ]
    }
   ],
   "source": [
    "text1 = 'ali'\n",
    "text2 = 'ALI'\n",
    "\n",
    "print(text1.islower())\n",
    "print(text2.islower())"
   ]
  },
  {
   "cell_type": "markdown",
   "id": "d0ade903",
   "metadata": {
    "papermill": {
     "duration": 0.033771,
     "end_time": "2024-10-09T19:36:33.126490",
     "exception": false,
     "start_time": "2024-10-09T19:36:33.092719",
     "status": "completed"
    },
    "tags": []
   },
   "source": [
    "# 4- isupper Function"
   ]
  },
  {
   "cell_type": "code",
   "execution_count": 22,
   "id": "4ad5ab93",
   "metadata": {
    "execution": {
     "iopub.execute_input": "2024-10-09T19:36:33.196956Z",
     "iopub.status.busy": "2024-10-09T19:36:33.196343Z",
     "iopub.status.idle": "2024-10-09T19:36:33.205146Z",
     "shell.execute_reply": "2024-10-09T19:36:33.203194Z"
    },
    "papermill": {
     "duration": 0.047768,
     "end_time": "2024-10-09T19:36:33.208085",
     "exception": false,
     "start_time": "2024-10-09T19:36:33.160317",
     "status": "completed"
    },
    "tags": []
   },
   "outputs": [
    {
     "name": "stdout",
     "output_type": "stream",
     "text": [
      "False\n",
      "True\n"
     ]
    }
   ],
   "source": [
    "text1 = 'ali'\n",
    "text2 = 'ALI'\n",
    "\n",
    "print(text1.isupper())\n",
    "print(text2.isupper())"
   ]
  },
  {
   "cell_type": "markdown",
   "id": "81ec773e",
   "metadata": {
    "papermill": {
     "duration": 0.031316,
     "end_time": "2024-10-09T19:36:33.271317",
     "exception": false,
     "start_time": "2024-10-09T19:36:33.240001",
     "status": "completed"
    },
    "tags": []
   },
   "source": [
    "# 5- Len Function"
   ]
  },
  {
   "cell_type": "code",
   "execution_count": 23,
   "id": "29fe2b80",
   "metadata": {
    "execution": {
     "iopub.execute_input": "2024-10-09T19:36:33.343681Z",
     "iopub.status.busy": "2024-10-09T19:36:33.342542Z",
     "iopub.status.idle": "2024-10-09T19:36:33.351433Z",
     "shell.execute_reply": "2024-10-09T19:36:33.349902Z"
    },
    "papermill": {
     "duration": 0.048423,
     "end_time": "2024-10-09T19:36:33.354286",
     "exception": false,
     "start_time": "2024-10-09T19:36:33.305863",
     "status": "completed"
    },
    "tags": []
   },
   "outputs": [
    {
     "name": "stdout",
     "output_type": "stream",
     "text": [
      "7\n",
      "11\n",
      "17\n"
     ]
    }
   ],
   "source": [
    "name1 = 'mohamed'\n",
    "name2 = 'mohamed ali'\n",
    "name3 = 'mohamed ali ahmed'\n",
    "\n",
    "print(len(name1))\n",
    "print(len(name2))\n",
    "print(len(name3))"
   ]
  },
  {
   "cell_type": "markdown",
   "id": "45b5c474",
   "metadata": {
    "papermill": {
     "duration": 0.034082,
     "end_time": "2024-10-09T19:36:33.422550",
     "exception": false,
     "start_time": "2024-10-09T19:36:33.388468",
     "status": "completed"
    },
    "tags": []
   },
   "source": [
    "# 6- Replace Function "
   ]
  },
  {
   "cell_type": "code",
   "execution_count": 24,
   "id": "227b399d",
   "metadata": {
    "execution": {
     "iopub.execute_input": "2024-10-09T19:36:33.488029Z",
     "iopub.status.busy": "2024-10-09T19:36:33.487535Z",
     "iopub.status.idle": "2024-10-09T19:36:33.494168Z",
     "shell.execute_reply": "2024-10-09T19:36:33.493072Z"
    },
    "papermill": {
     "duration": 0.044497,
     "end_time": "2024-10-09T19:36:33.498521",
     "exception": false,
     "start_time": "2024-10-09T19:36:33.454024",
     "status": "completed"
    },
    "tags": []
   },
   "outputs": [
    {
     "name": "stdout",
     "output_type": "stream",
     "text": [
      "youssef ayman hamed\n"
     ]
    }
   ],
   "source": [
    "name = \"youssef ayman ali\"\n",
    "new_name = name.replace(\"ali\",\"hamed\")\n",
    "print(new_name)"
   ]
  },
  {
   "cell_type": "markdown",
   "id": "e9de0faa",
   "metadata": {
    "papermill": {
     "duration": 0.03262,
     "end_time": "2024-10-09T19:36:33.567710",
     "exception": false,
     "start_time": "2024-10-09T19:36:33.535090",
     "status": "completed"
    },
    "tags": []
   },
   "source": [
    "# Import Math Module "
   ]
  },
  {
   "cell_type": "code",
   "execution_count": 25,
   "id": "312587c2",
   "metadata": {
    "execution": {
     "iopub.execute_input": "2024-10-09T19:36:33.636682Z",
     "iopub.status.busy": "2024-10-09T19:36:33.636181Z",
     "iopub.status.idle": "2024-10-09T19:36:33.642475Z",
     "shell.execute_reply": "2024-10-09T19:36:33.640975Z"
    },
    "papermill": {
     "duration": 0.043052,
     "end_time": "2024-10-09T19:36:33.645491",
     "exception": false,
     "start_time": "2024-10-09T19:36:33.602439",
     "status": "completed"
    },
    "tags": []
   },
   "outputs": [],
   "source": [
    "from math import *"
   ]
  },
  {
   "cell_type": "markdown",
   "id": "c0b5d4ac",
   "metadata": {
    "papermill": {
     "duration": 0.031887,
     "end_time": "2024-10-09T19:36:33.709474",
     "exception": false,
     "start_time": "2024-10-09T19:36:33.677587",
     "status": "completed"
    },
    "tags": []
   },
   "source": [
    "# 7- Max Function"
   ]
  },
  {
   "cell_type": "code",
   "execution_count": 26,
   "id": "60323746",
   "metadata": {
    "execution": {
     "iopub.execute_input": "2024-10-09T19:36:33.777127Z",
     "iopub.status.busy": "2024-10-09T19:36:33.775498Z",
     "iopub.status.idle": "2024-10-09T19:36:33.783841Z",
     "shell.execute_reply": "2024-10-09T19:36:33.782141Z"
    },
    "papermill": {
     "duration": 0.045634,
     "end_time": "2024-10-09T19:36:33.787111",
     "exception": false,
     "start_time": "2024-10-09T19:36:33.741477",
     "status": "completed"
    },
    "tags": []
   },
   "outputs": [
    {
     "name": "stdout",
     "output_type": "stream",
     "text": [
      "5\n",
      "10\n"
     ]
    }
   ],
   "source": [
    "print(max([1,2,3,4,5]))\n",
    "print(max(3,6,5,9,10))"
   ]
  },
  {
   "cell_type": "markdown",
   "id": "312c2f5c",
   "metadata": {
    "papermill": {
     "duration": 0.03303,
     "end_time": "2024-10-09T19:36:33.852834",
     "exception": false,
     "start_time": "2024-10-09T19:36:33.819804",
     "status": "completed"
    },
    "tags": []
   },
   "source": [
    "# 8- Min Function"
   ]
  },
  {
   "cell_type": "code",
   "execution_count": 27,
   "id": "49e1947a",
   "metadata": {
    "execution": {
     "iopub.execute_input": "2024-10-09T19:36:34.009333Z",
     "iopub.status.busy": "2024-10-09T19:36:34.008872Z",
     "iopub.status.idle": "2024-10-09T19:36:34.016117Z",
     "shell.execute_reply": "2024-10-09T19:36:34.014746Z"
    },
    "papermill": {
     "duration": 0.134577,
     "end_time": "2024-10-09T19:36:34.019975",
     "exception": false,
     "start_time": "2024-10-09T19:36:33.885398",
     "status": "completed"
    },
    "tags": []
   },
   "outputs": [
    {
     "name": "stdout",
     "output_type": "stream",
     "text": [
      "1\n",
      "3\n"
     ]
    }
   ],
   "source": [
    "print(min([1,2,3,4,5]))\n",
    "print(min(3,6,5,9,10))"
   ]
  },
  {
   "cell_type": "markdown",
   "id": "7ce5b5be",
   "metadata": {
    "papermill": {
     "duration": 0.030691,
     "end_time": "2024-10-09T19:36:34.083144",
     "exception": false,
     "start_time": "2024-10-09T19:36:34.052453",
     "status": "completed"
    },
    "tags": []
   },
   "source": [
    "# 9- Absolute Function "
   ]
  },
  {
   "cell_type": "code",
   "execution_count": 28,
   "id": "9e223724",
   "metadata": {
    "execution": {
     "iopub.execute_input": "2024-10-09T19:36:34.149426Z",
     "iopub.status.busy": "2024-10-09T19:36:34.148968Z",
     "iopub.status.idle": "2024-10-09T19:36:34.155865Z",
     "shell.execute_reply": "2024-10-09T19:36:34.154424Z"
    },
    "papermill": {
     "duration": 0.042877,
     "end_time": "2024-10-09T19:36:34.159022",
     "exception": false,
     "start_time": "2024-10-09T19:36:34.116145",
     "status": "completed"
    },
    "tags": []
   },
   "outputs": [
    {
     "name": "stdout",
     "output_type": "stream",
     "text": [
      "10\n"
     ]
    }
   ],
   "source": [
    "num = -10 \n",
    "print(abs(num))"
   ]
  },
  {
   "cell_type": "markdown",
   "id": "7165179c",
   "metadata": {
    "papermill": {
     "duration": 0.032733,
     "end_time": "2024-10-09T19:36:34.226198",
     "exception": false,
     "start_time": "2024-10-09T19:36:34.193465",
     "status": "completed"
    },
    "tags": []
   },
   "source": [
    "# 10 - Power Function "
   ]
  },
  {
   "cell_type": "code",
   "execution_count": 29,
   "id": "efb40ef6",
   "metadata": {
    "execution": {
     "iopub.execute_input": "2024-10-09T19:36:34.292507Z",
     "iopub.status.busy": "2024-10-09T19:36:34.292078Z",
     "iopub.status.idle": "2024-10-09T19:36:34.298377Z",
     "shell.execute_reply": "2024-10-09T19:36:34.297043Z"
    },
    "papermill": {
     "duration": 0.043151,
     "end_time": "2024-10-09T19:36:34.301709",
     "exception": false,
     "start_time": "2024-10-09T19:36:34.258558",
     "status": "completed"
    },
    "tags": []
   },
   "outputs": [
    {
     "name": "stdout",
     "output_type": "stream",
     "text": [
      "25.0\n",
      "4\n"
     ]
    }
   ],
   "source": [
    "num = 5 \n",
    "print(pow(num , 2))\n",
    "\n",
    "print(int(pow(2 , 2)))"
   ]
  },
  {
   "cell_type": "markdown",
   "id": "87fe4cdd",
   "metadata": {
    "papermill": {
     "duration": 0.032216,
     "end_time": "2024-10-09T19:36:34.366044",
     "exception": false,
     "start_time": "2024-10-09T19:36:34.333828",
     "status": "completed"
    },
    "tags": []
   },
   "source": [
    "# 11- lists"
   ]
  },
  {
   "cell_type": "code",
   "execution_count": 30,
   "id": "691937a8",
   "metadata": {
    "execution": {
     "iopub.execute_input": "2024-10-09T19:36:34.432239Z",
     "iopub.status.busy": "2024-10-09T19:36:34.431798Z",
     "iopub.status.idle": "2024-10-09T19:36:34.439592Z",
     "shell.execute_reply": "2024-10-09T19:36:34.438150Z"
    },
    "papermill": {
     "duration": 0.04472,
     "end_time": "2024-10-09T19:36:34.442932",
     "exception": false,
     "start_time": "2024-10-09T19:36:34.398212",
     "status": "completed"
    },
    "tags": []
   },
   "outputs": [
    {
     "name": "stdout",
     "output_type": "stream",
     "text": [
      "ahmed\n",
      "ali\n",
      "['ahmed', 'ali', 'asmaa']\n",
      "['ali', 'asmaa']\n"
     ]
    }
   ],
   "source": [
    "names = [\"ahmed\",\"ali\",\"asmaa\",\"nora\"]\n",
    "\n",
    "print(names[0])\n",
    "print(names[1])\n",
    "\n",
    "print(names[0:3])\n",
    "print(names[1:3])"
   ]
  },
  {
   "cell_type": "code",
   "execution_count": 31,
   "id": "c4d56b1b",
   "metadata": {
    "execution": {
     "iopub.execute_input": "2024-10-09T19:36:34.510321Z",
     "iopub.status.busy": "2024-10-09T19:36:34.509868Z",
     "iopub.status.idle": "2024-10-09T19:36:34.517612Z",
     "shell.execute_reply": "2024-10-09T19:36:34.516314Z"
    },
    "papermill": {
     "duration": 0.044522,
     "end_time": "2024-10-09T19:36:34.520522",
     "exception": false,
     "start_time": "2024-10-09T19:36:34.476000",
     "status": "completed"
    },
    "tags": []
   },
   "outputs": [
    {
     "name": "stdout",
     "output_type": "stream",
     "text": [
      "5\n",
      "4\n",
      "3\n",
      "2\n",
      "1\n"
     ]
    }
   ],
   "source": [
    "numbers = [1,2,3,4,5]\n",
    "\n",
    "print(numbers[-1])\n",
    "print(numbers[-2])\n",
    "print(numbers[-3])\n",
    "print(numbers[-4])\n",
    "print(numbers[-5])"
   ]
  },
  {
   "cell_type": "markdown",
   "id": "94b8cfe5",
   "metadata": {
    "papermill": {
     "duration": 0.031712,
     "end_time": "2024-10-09T19:36:34.584714",
     "exception": false,
     "start_time": "2024-10-09T19:36:34.553002",
     "status": "completed"
    },
    "tags": []
   },
   "source": [
    "# 12- Append Function"
   ]
  },
  {
   "cell_type": "code",
   "execution_count": 32,
   "id": "8e4ef79b",
   "metadata": {
    "execution": {
     "iopub.execute_input": "2024-10-09T19:36:34.651154Z",
     "iopub.status.busy": "2024-10-09T19:36:34.650735Z",
     "iopub.status.idle": "2024-10-09T19:36:34.658088Z",
     "shell.execute_reply": "2024-10-09T19:36:34.656663Z"
    },
    "papermill": {
     "duration": 0.044166,
     "end_time": "2024-10-09T19:36:34.660636",
     "exception": false,
     "start_time": "2024-10-09T19:36:34.616470",
     "status": "completed"
    },
    "tags": []
   },
   "outputs": [
    {
     "name": "stdout",
     "output_type": "stream",
     "text": [
      "['ahmed', 'ali', 'asmaa', 'nora', 'Youssef', 'Omar']\n"
     ]
    }
   ],
   "source": [
    "text = [\"ahmed\",\"ali\",\"asmaa\",\"nora\"]\n",
    "\n",
    "text.append('Youssef')\n",
    "text.append('Omar')\n",
    "\n",
    "print(text)"
   ]
  },
  {
   "cell_type": "markdown",
   "id": "f485c13c",
   "metadata": {
    "papermill": {
     "duration": 0.031782,
     "end_time": "2024-10-09T19:36:34.727613",
     "exception": false,
     "start_time": "2024-10-09T19:36:34.695831",
     "status": "completed"
    },
    "tags": []
   },
   "source": [
    "# 13- Extend Function"
   ]
  },
  {
   "cell_type": "code",
   "execution_count": 33,
   "id": "737eb1bc",
   "metadata": {
    "execution": {
     "iopub.execute_input": "2024-10-09T19:36:34.798263Z",
     "iopub.status.busy": "2024-10-09T19:36:34.797762Z",
     "iopub.status.idle": "2024-10-09T19:36:34.805090Z",
     "shell.execute_reply": "2024-10-09T19:36:34.803772Z"
    },
    "papermill": {
     "duration": 0.047088,
     "end_time": "2024-10-09T19:36:34.807496",
     "exception": false,
     "start_time": "2024-10-09T19:36:34.760408",
     "status": "completed"
    },
    "tags": []
   },
   "outputs": [
    {
     "name": "stdout",
     "output_type": "stream",
     "text": [
      "[1, 2, 3, 4, 5, 6]\n"
     ]
    }
   ],
   "source": [
    "list1 = [1,2,3]\n",
    "list2 = [4,5,6]\n",
    "\n",
    "list1.extend(list2)\n",
    "\n",
    "print(list1)"
   ]
  },
  {
   "cell_type": "code",
   "execution_count": 34,
   "id": "2a326a31",
   "metadata": {
    "execution": {
     "iopub.execute_input": "2024-10-09T19:36:34.875284Z",
     "iopub.status.busy": "2024-10-09T19:36:34.874793Z",
     "iopub.status.idle": "2024-10-09T19:36:34.882406Z",
     "shell.execute_reply": "2024-10-09T19:36:34.880723Z"
    },
    "papermill": {
     "duration": 0.046265,
     "end_time": "2024-10-09T19:36:34.885950",
     "exception": false,
     "start_time": "2024-10-09T19:36:34.839685",
     "status": "completed"
    },
    "tags": []
   },
   "outputs": [
    {
     "name": "stdout",
     "output_type": "stream",
     "text": [
      "['A', 'B', 'C', 'D', 'E', 'F']\n"
     ]
    }
   ],
   "source": [
    "list1 = [\"A\" , \"B\" , \"C\"]\n",
    "list2 = [\"D\" , \"E\" , \"F\"]\n",
    "\n",
    "list1.extend(list2)\n",
    "\n",
    "print(list1)"
   ]
  },
  {
   "cell_type": "markdown",
   "id": "d761ee91",
   "metadata": {
    "papermill": {
     "duration": 0.033842,
     "end_time": "2024-10-09T19:36:34.953527",
     "exception": false,
     "start_time": "2024-10-09T19:36:34.919685",
     "status": "completed"
    },
    "tags": []
   },
   "source": [
    "# 14- Insert Function (index , Value)"
   ]
  },
  {
   "cell_type": "code",
   "execution_count": 35,
   "id": "d334c5ee",
   "metadata": {
    "execution": {
     "iopub.execute_input": "2024-10-09T19:36:35.023308Z",
     "iopub.status.busy": "2024-10-09T19:36:35.022839Z",
     "iopub.status.idle": "2024-10-09T19:36:35.030312Z",
     "shell.execute_reply": "2024-10-09T19:36:35.028798Z"
    },
    "papermill": {
     "duration": 0.047396,
     "end_time": "2024-10-09T19:36:35.033431",
     "exception": false,
     "start_time": "2024-10-09T19:36:34.986035",
     "status": "completed"
    },
    "tags": []
   },
   "outputs": [
    {
     "name": "stdout",
     "output_type": "stream",
     "text": [
      "[0, 1, 2, 3, 0]\n"
     ]
    }
   ],
   "source": [
    "list1 = [1,2,3]\n",
    "\n",
    "list1.insert(0 , 0)\n",
    "list1.insert(4 , 0)\n",
    "\n",
    "print(list1)"
   ]
  },
  {
   "cell_type": "markdown",
   "id": "df603a6e",
   "metadata": {
    "papermill": {
     "duration": 0.032804,
     "end_time": "2024-10-09T19:36:35.100104",
     "exception": false,
     "start_time": "2024-10-09T19:36:35.067300",
     "status": "completed"
    },
    "tags": []
   },
   "source": [
    "# 15- Remove Function "
   ]
  },
  {
   "cell_type": "code",
   "execution_count": 36,
   "id": "06ae477d",
   "metadata": {
    "execution": {
     "iopub.execute_input": "2024-10-09T19:36:35.183527Z",
     "iopub.status.busy": "2024-10-09T19:36:35.182647Z",
     "iopub.status.idle": "2024-10-09T19:36:35.191847Z",
     "shell.execute_reply": "2024-10-09T19:36:35.190267Z"
    },
    "papermill": {
     "duration": 0.056253,
     "end_time": "2024-10-09T19:36:35.194719",
     "exception": false,
     "start_time": "2024-10-09T19:36:35.138466",
     "status": "completed"
    },
    "tags": []
   },
   "outputs": [
    {
     "name": "stdout",
     "output_type": "stream",
     "text": [
      "[2, 3]\n"
     ]
    }
   ],
   "source": [
    "list1 = [1,2,3]\n",
    "\n",
    "list1.remove(1)\n",
    "\n",
    "print(list1)"
   ]
  },
  {
   "cell_type": "markdown",
   "id": "f3eb4099",
   "metadata": {
    "papermill": {
     "duration": 0.040814,
     "end_time": "2024-10-09T19:36:35.269656",
     "exception": false,
     "start_time": "2024-10-09T19:36:35.228842",
     "status": "completed"
    },
    "tags": []
   },
   "source": [
    "# 16- Clear Function"
   ]
  },
  {
   "cell_type": "code",
   "execution_count": 37,
   "id": "163e7a8b",
   "metadata": {
    "execution": {
     "iopub.execute_input": "2024-10-09T19:36:35.360802Z",
     "iopub.status.busy": "2024-10-09T19:36:35.358938Z",
     "iopub.status.idle": "2024-10-09T19:36:35.369156Z",
     "shell.execute_reply": "2024-10-09T19:36:35.367830Z"
    },
    "papermill": {
     "duration": 0.065997,
     "end_time": "2024-10-09T19:36:35.375383",
     "exception": false,
     "start_time": "2024-10-09T19:36:35.309386",
     "status": "completed"
    },
    "tags": []
   },
   "outputs": [
    {
     "name": "stdout",
     "output_type": "stream",
     "text": [
      "[]\n"
     ]
    }
   ],
   "source": [
    "list1 = [1,2,3]\n",
    "\n",
    "list1.clear()\n",
    "\n",
    "print(list1)"
   ]
  },
  {
   "cell_type": "markdown",
   "id": "0f0bdba7",
   "metadata": {
    "papermill": {
     "duration": 0.033718,
     "end_time": "2024-10-09T19:36:35.454815",
     "exception": false,
     "start_time": "2024-10-09T19:36:35.421097",
     "status": "completed"
    },
    "tags": []
   },
   "source": [
    "# 17- pop Function"
   ]
  },
  {
   "cell_type": "code",
   "execution_count": 38,
   "id": "37d0aefb",
   "metadata": {
    "execution": {
     "iopub.execute_input": "2024-10-09T19:36:35.548467Z",
     "iopub.status.busy": "2024-10-09T19:36:35.546210Z",
     "iopub.status.idle": "2024-10-09T19:36:35.556992Z",
     "shell.execute_reply": "2024-10-09T19:36:35.554133Z"
    },
    "papermill": {
     "duration": 0.061347,
     "end_time": "2024-10-09T19:36:35.563188",
     "exception": false,
     "start_time": "2024-10-09T19:36:35.501841",
     "status": "completed"
    },
    "tags": []
   },
   "outputs": [
    {
     "name": "stdout",
     "output_type": "stream",
     "text": [
      "[1, 2]\n"
     ]
    }
   ],
   "source": [
    "list1 = [1,2,3]\n",
    "\n",
    "list1.pop()\n",
    "# list1.pop()\n",
    "# list1.pop()\n",
    "\n",
    "print(list1)"
   ]
  },
  {
   "cell_type": "markdown",
   "id": "d626a73f",
   "metadata": {
    "papermill": {
     "duration": 0.033339,
     "end_time": "2024-10-09T19:36:35.630714",
     "exception": false,
     "start_time": "2024-10-09T19:36:35.597375",
     "status": "completed"
    },
    "tags": []
   },
   "source": [
    "# 18- Count Function"
   ]
  },
  {
   "cell_type": "code",
   "execution_count": 39,
   "id": "e98baf49",
   "metadata": {
    "execution": {
     "iopub.execute_input": "2024-10-09T19:36:35.700370Z",
     "iopub.status.busy": "2024-10-09T19:36:35.699756Z",
     "iopub.status.idle": "2024-10-09T19:36:35.708479Z",
     "shell.execute_reply": "2024-10-09T19:36:35.706455Z"
    },
    "papermill": {
     "duration": 0.047489,
     "end_time": "2024-10-09T19:36:35.711427",
     "exception": false,
     "start_time": "2024-10-09T19:36:35.663938",
     "status": "completed"
    },
    "tags": []
   },
   "outputs": [
    {
     "name": "stdout",
     "output_type": "stream",
     "text": [
      "3\n"
     ]
    }
   ],
   "source": [
    "list1 = [2 , 1 , 2 , 3 , 2]\n",
    "\n",
    "counter = list1.count(2)\n",
    "\n",
    "print(counter)"
   ]
  },
  {
   "cell_type": "markdown",
   "id": "0f57910e",
   "metadata": {
    "papermill": {
     "duration": 0.033421,
     "end_time": "2024-10-09T19:36:35.779135",
     "exception": false,
     "start_time": "2024-10-09T19:36:35.745714",
     "status": "completed"
    },
    "tags": []
   },
   "source": [
    "# 19- Sort Function "
   ]
  },
  {
   "cell_type": "code",
   "execution_count": 40,
   "id": "8a1f4e1e",
   "metadata": {
    "execution": {
     "iopub.execute_input": "2024-10-09T19:36:35.850633Z",
     "iopub.status.busy": "2024-10-09T19:36:35.850147Z",
     "iopub.status.idle": "2024-10-09T19:36:35.857264Z",
     "shell.execute_reply": "2024-10-09T19:36:35.855599Z"
    },
    "papermill": {
     "duration": 0.047291,
     "end_time": "2024-10-09T19:36:35.861113",
     "exception": false,
     "start_time": "2024-10-09T19:36:35.813822",
     "status": "completed"
    },
    "tags": []
   },
   "outputs": [
    {
     "name": "stdout",
     "output_type": "stream",
     "text": [
      "[10, 23, 54, 78, 99, 465]\n"
     ]
    }
   ],
   "source": [
    "list1 = [10,99,54,23,78,465]\n",
    "\n",
    "list1.sort()\n",
    "\n",
    "print(list1)"
   ]
  },
  {
   "cell_type": "markdown",
   "id": "6c55f743",
   "metadata": {
    "papermill": {
     "duration": 0.032836,
     "end_time": "2024-10-09T19:36:35.927983",
     "exception": false,
     "start_time": "2024-10-09T19:36:35.895147",
     "status": "completed"
    },
    "tags": []
   },
   "source": [
    "# Arithmetic Operations"
   ]
  },
  {
   "cell_type": "markdown",
   "id": "c4f920ee",
   "metadata": {
    "papermill": {
     "duration": 0.03301,
     "end_time": "2024-10-09T19:36:35.994320",
     "exception": false,
     "start_time": "2024-10-09T19:36:35.961310",
     "status": "completed"
    },
    "tags": []
   },
   "source": [
    "# 1- Addition"
   ]
  },
  {
   "cell_type": "code",
   "execution_count": 41,
   "id": "bbe3ddb7",
   "metadata": {
    "execution": {
     "iopub.execute_input": "2024-10-09T19:36:36.064165Z",
     "iopub.status.busy": "2024-10-09T19:36:36.063027Z",
     "iopub.status.idle": "2024-10-09T19:36:36.070351Z",
     "shell.execute_reply": "2024-10-09T19:36:36.068922Z"
    },
    "papermill": {
     "duration": 0.04607,
     "end_time": "2024-10-09T19:36:36.073677",
     "exception": false,
     "start_time": "2024-10-09T19:36:36.027607",
     "status": "completed"
    },
    "tags": []
   },
   "outputs": [
    {
     "name": "stdout",
     "output_type": "stream",
     "text": [
      "18\n",
      "13\n",
      "29\n"
     ]
    }
   ],
   "source": [
    "print(9 + 9)\n",
    "print(4 + 9)\n",
    "print(20 + 9)"
   ]
  },
  {
   "cell_type": "markdown",
   "id": "705bdd92",
   "metadata": {
    "papermill": {
     "duration": 0.033181,
     "end_time": "2024-10-09T19:36:36.141891",
     "exception": false,
     "start_time": "2024-10-09T19:36:36.108710",
     "status": "completed"
    },
    "tags": []
   },
   "source": [
    "# 2- Subtraction"
   ]
  },
  {
   "cell_type": "code",
   "execution_count": 42,
   "id": "48f08356",
   "metadata": {
    "execution": {
     "iopub.execute_input": "2024-10-09T19:36:36.211312Z",
     "iopub.status.busy": "2024-10-09T19:36:36.210771Z",
     "iopub.status.idle": "2024-10-09T19:36:36.217572Z",
     "shell.execute_reply": "2024-10-09T19:36:36.215980Z"
    },
    "papermill": {
     "duration": 0.046199,
     "end_time": "2024-10-09T19:36:36.221134",
     "exception": false,
     "start_time": "2024-10-09T19:36:36.174935",
     "status": "completed"
    },
    "tags": []
   },
   "outputs": [
    {
     "name": "stdout",
     "output_type": "stream",
     "text": [
      "0\n",
      "-5\n",
      "11\n"
     ]
    }
   ],
   "source": [
    "print(9 - 9)\n",
    "print(4 - 9)\n",
    "print(20 - 9)"
   ]
  },
  {
   "cell_type": "markdown",
   "id": "adf769b4",
   "metadata": {
    "papermill": {
     "duration": 0.033857,
     "end_time": "2024-10-09T19:36:36.289152",
     "exception": false,
     "start_time": "2024-10-09T19:36:36.255295",
     "status": "completed"
    },
    "tags": []
   },
   "source": [
    "# 3- Division"
   ]
  },
  {
   "cell_type": "code",
   "execution_count": 43,
   "id": "81c5275d",
   "metadata": {
    "execution": {
     "iopub.execute_input": "2024-10-09T19:36:36.358363Z",
     "iopub.status.busy": "2024-10-09T19:36:36.357875Z",
     "iopub.status.idle": "2024-10-09T19:36:36.364428Z",
     "shell.execute_reply": "2024-10-09T19:36:36.363322Z"
    },
    "papermill": {
     "duration": 0.044351,
     "end_time": "2024-10-09T19:36:36.367182",
     "exception": false,
     "start_time": "2024-10-09T19:36:36.322831",
     "status": "completed"
    },
    "tags": []
   },
   "outputs": [
    {
     "name": "stdout",
     "output_type": "stream",
     "text": [
      "1.0\n",
      "9.0\n",
      "4.0\n"
     ]
    }
   ],
   "source": [
    "print(9 / 9)\n",
    "print(18 / 2)\n",
    "print(20 / 5)"
   ]
  },
  {
   "cell_type": "markdown",
   "id": "5da9d351",
   "metadata": {
    "papermill": {
     "duration": 0.034595,
     "end_time": "2024-10-09T19:36:36.435777",
     "exception": false,
     "start_time": "2024-10-09T19:36:36.401182",
     "status": "completed"
    },
    "tags": []
   },
   "source": [
    "# 4- Multiplication"
   ]
  },
  {
   "cell_type": "code",
   "execution_count": 44,
   "id": "efe63faa",
   "metadata": {
    "execution": {
     "iopub.execute_input": "2024-10-09T19:36:36.506941Z",
     "iopub.status.busy": "2024-10-09T19:36:36.506470Z",
     "iopub.status.idle": "2024-10-09T19:36:36.513332Z",
     "shell.execute_reply": "2024-10-09T19:36:36.511976Z"
    },
    "papermill": {
     "duration": 0.04724,
     "end_time": "2024-10-09T19:36:36.517709",
     "exception": false,
     "start_time": "2024-10-09T19:36:36.470469",
     "status": "completed"
    },
    "tags": []
   },
   "outputs": [
    {
     "name": "stdout",
     "output_type": "stream",
     "text": [
      "81\n",
      "36\n",
      "100\n"
     ]
    }
   ],
   "source": [
    "print(9 * 9)\n",
    "print(18 * 2)\n",
    "print(20 * 5)"
   ]
  },
  {
   "cell_type": "markdown",
   "id": "9291c26c",
   "metadata": {
    "papermill": {
     "duration": 0.033969,
     "end_time": "2024-10-09T19:36:36.586146",
     "exception": false,
     "start_time": "2024-10-09T19:36:36.552177",
     "status": "completed"
    },
    "tags": []
   },
   "source": [
    "# 5- Remainder"
   ]
  },
  {
   "cell_type": "code",
   "execution_count": 45,
   "id": "f1d1ab5e",
   "metadata": {
    "execution": {
     "iopub.execute_input": "2024-10-09T19:36:36.657899Z",
     "iopub.status.busy": "2024-10-09T19:36:36.657435Z",
     "iopub.status.idle": "2024-10-09T19:36:36.664319Z",
     "shell.execute_reply": "2024-10-09T19:36:36.663153Z"
    },
    "papermill": {
     "duration": 0.045291,
     "end_time": "2024-10-09T19:36:36.666925",
     "exception": false,
     "start_time": "2024-10-09T19:36:36.621634",
     "status": "completed"
    },
    "tags": []
   },
   "outputs": [
    {
     "name": "stdout",
     "output_type": "stream",
     "text": [
      "0\n",
      "1\n",
      "2\n"
     ]
    }
   ],
   "source": [
    "print(9 % 9)\n",
    "print(19 % 2)\n",
    "print(27 % 5)"
   ]
  },
  {
   "cell_type": "markdown",
   "id": "44e75d06",
   "metadata": {
    "papermill": {
     "duration": 0.033399,
     "end_time": "2024-10-09T19:36:36.734171",
     "exception": false,
     "start_time": "2024-10-09T19:36:36.700772",
     "status": "completed"
    },
    "tags": []
   },
   "source": [
    "# Getting Input From Users"
   ]
  },
  {
   "cell_type": "code",
   "execution_count": 46,
   "id": "c86e1769",
   "metadata": {
    "execution": {
     "iopub.execute_input": "2024-10-09T19:36:36.804371Z",
     "iopub.status.busy": "2024-10-09T19:36:36.803900Z",
     "iopub.status.idle": "2024-10-09T19:36:37.342904Z",
     "shell.execute_reply": "2024-10-09T19:36:37.340798Z"
    },
    "papermill": {
     "duration": 0.577538,
     "end_time": "2024-10-09T19:36:37.345436",
     "exception": true,
     "start_time": "2024-10-09T19:36:36.767898",
     "status": "failed"
    },
    "tags": []
   },
   "outputs": [
    {
     "ename": "StdinNotImplementedError",
     "evalue": "raw_input was called, but this frontend does not support input requests.",
     "output_type": "error",
     "traceback": [
      "\u001b[0;31m---------------------------------------------------------------------------\u001b[0m",
      "\u001b[0;31mStdinNotImplementedError\u001b[0m                  Traceback (most recent call last)",
      "Cell \u001b[0;32mIn[46], line 1\u001b[0m\n\u001b[0;32m----> 1\u001b[0m name \u001b[38;5;241m=\u001b[39m \u001b[38;5;28;43minput\u001b[39;49m\u001b[43m(\u001b[49m\u001b[38;5;124;43m\"\u001b[39;49m\u001b[38;5;124;43mPlease Enter Your Name : \u001b[39;49m\u001b[38;5;124;43m\"\u001b[39;49m\u001b[43m)\u001b[49m\n\u001b[1;32m      2\u001b[0m age \u001b[38;5;241m=\u001b[39m \u001b[38;5;28minput\u001b[39m(\u001b[38;5;124m\"\u001b[39m\u001b[38;5;124mPlease Enter Your Age : \u001b[39m\u001b[38;5;124m\"\u001b[39m)\n\u001b[1;32m      3\u001b[0m salary \u001b[38;5;241m=\u001b[39m \u001b[38;5;28minput\u001b[39m(\u001b[38;5;124m\"\u001b[39m\u001b[38;5;124mPlease Enter Your Salary : \u001b[39m\u001b[38;5;124m\"\u001b[39m)\n",
      "File \u001b[0;32m/opt/conda/lib/python3.10/site-packages/ipykernel/kernelbase.py:1281\u001b[0m, in \u001b[0;36mKernel.raw_input\u001b[0;34m(self, prompt)\u001b[0m\n\u001b[1;32m   1279\u001b[0m \u001b[38;5;28;01mif\u001b[39;00m \u001b[38;5;129;01mnot\u001b[39;00m \u001b[38;5;28mself\u001b[39m\u001b[38;5;241m.\u001b[39m_allow_stdin:\n\u001b[1;32m   1280\u001b[0m     msg \u001b[38;5;241m=\u001b[39m \u001b[38;5;124m\"\u001b[39m\u001b[38;5;124mraw_input was called, but this frontend does not support input requests.\u001b[39m\u001b[38;5;124m\"\u001b[39m\n\u001b[0;32m-> 1281\u001b[0m     \u001b[38;5;28;01mraise\u001b[39;00m StdinNotImplementedError(msg)\n\u001b[1;32m   1282\u001b[0m \u001b[38;5;28;01mreturn\u001b[39;00m \u001b[38;5;28mself\u001b[39m\u001b[38;5;241m.\u001b[39m_input_request(\n\u001b[1;32m   1283\u001b[0m     \u001b[38;5;28mstr\u001b[39m(prompt),\n\u001b[1;32m   1284\u001b[0m     \u001b[38;5;28mself\u001b[39m\u001b[38;5;241m.\u001b[39m_parent_ident[\u001b[38;5;124m\"\u001b[39m\u001b[38;5;124mshell\u001b[39m\u001b[38;5;124m\"\u001b[39m],\n\u001b[1;32m   1285\u001b[0m     \u001b[38;5;28mself\u001b[39m\u001b[38;5;241m.\u001b[39mget_parent(\u001b[38;5;124m\"\u001b[39m\u001b[38;5;124mshell\u001b[39m\u001b[38;5;124m\"\u001b[39m),\n\u001b[1;32m   1286\u001b[0m     password\u001b[38;5;241m=\u001b[39m\u001b[38;5;28;01mFalse\u001b[39;00m,\n\u001b[1;32m   1287\u001b[0m )\n",
      "\u001b[0;31mStdinNotImplementedError\u001b[0m: raw_input was called, but this frontend does not support input requests."
     ]
    }
   ],
   "source": [
    "name = input(\"Please Enter Your Name : \")\n",
    "age = input(\"Please Enter Your Age : \")\n",
    "salary = input(\"Please Enter Your Salary : \")\n",
    "print(f'your name is : {name} \\nand your age is : {age} \\nand your salary is : {salary}')"
   ]
  },
  {
   "cell_type": "markdown",
   "id": "c10e3026",
   "metadata": {
    "papermill": {
     "duration": null,
     "end_time": null,
     "exception": null,
     "start_time": null,
     "status": "pending"
    },
    "tags": []
   },
   "source": [
    "# if Conditions "
   ]
  },
  {
   "cell_type": "code",
   "execution_count": null,
   "id": "3f9ad358",
   "metadata": {
    "execution": {
     "iopub.execute_input": "2024-10-08T16:02:50.506631Z",
     "iopub.status.busy": "2024-10-08T16:02:50.506094Z",
     "iopub.status.idle": "2024-10-08T16:02:50.552295Z",
     "shell.execute_reply": "2024-10-08T16:02:50.550473Z",
     "shell.execute_reply.started": "2024-10-08T16:02:50.506571Z"
    },
    "papermill": {
     "duration": null,
     "end_time": null,
     "exception": null,
     "start_time": null,
     "status": "pending"
    },
    "tags": []
   },
   "outputs": [],
   "source": [
    "if 5 > 2 :\n",
    "    print(\"Yes\")"
   ]
  },
  {
   "cell_type": "code",
   "execution_count": null,
   "id": "1faa97e5",
   "metadata": {
    "execution": {
     "iopub.execute_input": "2024-10-08T16:03:24.287224Z",
     "iopub.status.busy": "2024-10-08T16:03:24.286747Z",
     "iopub.status.idle": "2024-10-08T16:03:24.294583Z",
     "shell.execute_reply": "2024-10-08T16:03:24.293043Z",
     "shell.execute_reply.started": "2024-10-08T16:03:24.287181Z"
    },
    "papermill": {
     "duration": null,
     "end_time": null,
     "exception": null,
     "start_time": null,
     "status": "pending"
    },
    "tags": []
   },
   "outputs": [],
   "source": [
    "list = [1,2,3,4,5]\n",
    "\n",
    "if len(list) > 2 :\n",
    "    print(\"Yes\")"
   ]
  },
  {
   "cell_type": "code",
   "execution_count": null,
   "id": "d760c873",
   "metadata": {
    "execution": {
     "iopub.execute_input": "2024-10-08T16:04:27.166545Z",
     "iopub.status.busy": "2024-10-08T16:04:27.166075Z",
     "iopub.status.idle": "2024-10-08T16:04:27.173722Z",
     "shell.execute_reply": "2024-10-08T16:04:27.172422Z",
     "shell.execute_reply.started": "2024-10-08T16:04:27.166495Z"
    },
    "papermill": {
     "duration": null,
     "end_time": null,
     "exception": null,
     "start_time": null,
     "status": "pending"
    },
    "tags": []
   },
   "outputs": [],
   "source": [
    "if 5 > 1 and 10 > 1 :\n",
    "    print(\"Yes\")"
   ]
  },
  {
   "cell_type": "code",
   "execution_count": null,
   "id": "b19adc17",
   "metadata": {
    "execution": {
     "iopub.execute_input": "2024-10-08T16:04:50.177584Z",
     "iopub.status.busy": "2024-10-08T16:04:50.176102Z",
     "iopub.status.idle": "2024-10-08T16:04:50.183600Z",
     "shell.execute_reply": "2024-10-08T16:04:50.181868Z",
     "shell.execute_reply.started": "2024-10-08T16:04:50.177528Z"
    },
    "papermill": {
     "duration": null,
     "end_time": null,
     "exception": null,
     "start_time": null,
     "status": "pending"
    },
    "tags": []
   },
   "outputs": [],
   "source": [
    "if 5 > 1 and 10 < 1 :\n",
    "    print(\"Yes\")"
   ]
  },
  {
   "cell_type": "code",
   "execution_count": null,
   "id": "e7bc8a53",
   "metadata": {
    "execution": {
     "iopub.execute_input": "2024-10-08T16:05:18.845149Z",
     "iopub.status.busy": "2024-10-08T16:05:18.844687Z",
     "iopub.status.idle": "2024-10-08T16:05:18.853710Z",
     "shell.execute_reply": "2024-10-08T16:05:18.852420Z",
     "shell.execute_reply.started": "2024-10-08T16:05:18.845105Z"
    },
    "papermill": {
     "duration": null,
     "end_time": null,
     "exception": null,
     "start_time": null,
     "status": "pending"
    },
    "tags": []
   },
   "outputs": [],
   "source": [
    "if 5 > 1 and 10 < 1 :\n",
    "    print(\"Yes\")\n",
    "    \n",
    "else :\n",
    "    print(\"No\")"
   ]
  },
  {
   "cell_type": "code",
   "execution_count": null,
   "id": "98f1a700",
   "metadata": {
    "execution": {
     "iopub.execute_input": "2024-10-08T16:06:03.634406Z",
     "iopub.status.busy": "2024-10-08T16:06:03.633972Z",
     "iopub.status.idle": "2024-10-08T16:06:03.640765Z",
     "shell.execute_reply": "2024-10-08T16:06:03.639354Z",
     "shell.execute_reply.started": "2024-10-08T16:06:03.634365Z"
    },
    "papermill": {
     "duration": null,
     "end_time": null,
     "exception": null,
     "start_time": null,
     "status": "pending"
    },
    "tags": []
   },
   "outputs": [],
   "source": [
    "if 5 > 1 or 10 < 1 :\n",
    "    print(\"Yes\")"
   ]
  },
  {
   "cell_type": "code",
   "execution_count": null,
   "id": "c048c49e",
   "metadata": {
    "execution": {
     "iopub.execute_input": "2024-10-08T16:06:23.352127Z",
     "iopub.status.busy": "2024-10-08T16:06:23.351182Z",
     "iopub.status.idle": "2024-10-08T16:06:23.360470Z",
     "shell.execute_reply": "2024-10-08T16:06:23.358408Z",
     "shell.execute_reply.started": "2024-10-08T16:06:23.352063Z"
    },
    "papermill": {
     "duration": null,
     "end_time": null,
     "exception": null,
     "start_time": null,
     "status": "pending"
    },
    "tags": []
   },
   "outputs": [],
   "source": [
    "if 5 > 1 or 10 < 1 :\n",
    "    print(\"Yes\")\n",
    "    \n",
    "else :\n",
    "    print(\"No\")"
   ]
  },
  {
   "cell_type": "markdown",
   "id": "d3b17d7b",
   "metadata": {
    "papermill": {
     "duration": null,
     "end_time": null,
     "exception": null,
     "start_time": null,
     "status": "pending"
    },
    "tags": []
   },
   "source": [
    "# 1-  >  : Greater than\n",
    "# 2-  <  : Smaller than \n",
    "# 3-  >= : Greater than or equal \n",
    "# 4-  <= : Smaller than or equal \n",
    "# 5-  != : Not equal \n"
   ]
  },
  {
   "cell_type": "code",
   "execution_count": null,
   "id": "046ba015",
   "metadata": {
    "execution": {
     "iopub.execute_input": "2024-10-08T16:11:07.474755Z",
     "iopub.status.busy": "2024-10-08T16:11:07.474262Z",
     "iopub.status.idle": "2024-10-08T16:11:07.482126Z",
     "shell.execute_reply": "2024-10-08T16:11:07.480749Z",
     "shell.execute_reply.started": "2024-10-08T16:11:07.474711Z"
    },
    "papermill": {
     "duration": null,
     "end_time": null,
     "exception": null,
     "start_time": null,
     "status": "pending"
    },
    "tags": []
   },
   "outputs": [],
   "source": [
    "if 5 != 10 :\n",
    "    print(\"Yes\")"
   ]
  },
  {
   "cell_type": "code",
   "execution_count": null,
   "id": "acee69cb",
   "metadata": {
    "execution": {
     "iopub.execute_input": "2024-10-08T16:11:43.196673Z",
     "iopub.status.busy": "2024-10-08T16:11:43.196084Z",
     "iopub.status.idle": "2024-10-08T16:11:43.202894Z",
     "shell.execute_reply": "2024-10-08T16:11:43.201609Z",
     "shell.execute_reply.started": "2024-10-08T16:11:43.196616Z"
    },
    "papermill": {
     "duration": null,
     "end_time": null,
     "exception": null,
     "start_time": null,
     "status": "pending"
    },
    "tags": []
   },
   "outputs": [],
   "source": [
    "if 5 >= 10 :\n",
    "    print(\"Yes\")\n",
    "else:\n",
    "    print(\"No\")"
   ]
  },
  {
   "cell_type": "code",
   "execution_count": null,
   "id": "694ac3de",
   "metadata": {
    "execution": {
     "iopub.execute_input": "2024-10-08T16:11:59.638232Z",
     "iopub.status.busy": "2024-10-08T16:11:59.637751Z",
     "iopub.status.idle": "2024-10-08T16:11:59.645665Z",
     "shell.execute_reply": "2024-10-08T16:11:59.644197Z",
     "shell.execute_reply.started": "2024-10-08T16:11:59.638190Z"
    },
    "papermill": {
     "duration": null,
     "end_time": null,
     "exception": null,
     "start_time": null,
     "status": "pending"
    },
    "tags": []
   },
   "outputs": [],
   "source": [
    "if 5 <= 10 :\n",
    "    print(\"Yes\")\n",
    "else:\n",
    "    print(\"No\")"
   ]
  },
  {
   "cell_type": "markdown",
   "id": "8425b8b7",
   "metadata": {
    "papermill": {
     "duration": null,
     "end_time": null,
     "exception": null,
     "start_time": null,
     "status": "pending"
    },
    "tags": []
   },
   "source": [
    "# Comparisons"
   ]
  },
  {
   "cell_type": "code",
   "execution_count": null,
   "id": "705715d9",
   "metadata": {
    "execution": {
     "iopub.execute_input": "2024-10-08T16:15:36.406194Z",
     "iopub.status.busy": "2024-10-08T16:15:36.405713Z",
     "iopub.status.idle": "2024-10-08T16:15:36.418770Z",
     "shell.execute_reply": "2024-10-08T16:15:36.417285Z",
     "shell.execute_reply.started": "2024-10-08T16:15:36.406150Z"
    },
    "papermill": {
     "duration": null,
     "end_time": null,
     "exception": null,
     "start_time": null,
     "status": "pending"
    },
    "tags": []
   },
   "outputs": [],
   "source": [
    "def max_num( num1 , num2 , num3 ):\n",
    "    \n",
    "    if num1 > num2 and num1 > num3 :\n",
    "        return num1\n",
    "    \n",
    "    elif num2 > num1 and num2 > num3 :\n",
    "        return num2 \n",
    "    \n",
    "    else:\n",
    "        return num3\n",
    "\n",
    "max_num(4,6,9)"
   ]
  },
  {
   "cell_type": "markdown",
   "id": "cb1a2e0d",
   "metadata": {
    "papermill": {
     "duration": null,
     "end_time": null,
     "exception": null,
     "start_time": null,
     "status": "pending"
    },
    "tags": []
   },
   "source": [
    "# while loops"
   ]
  },
  {
   "cell_type": "code",
   "execution_count": null,
   "id": "dcd6bffb",
   "metadata": {
    "execution": {
     "iopub.execute_input": "2024-10-08T21:13:07.534318Z",
     "iopub.status.busy": "2024-10-08T21:13:07.533801Z",
     "iopub.status.idle": "2024-10-08T21:13:07.541356Z",
     "shell.execute_reply": "2024-10-08T21:13:07.540028Z",
     "shell.execute_reply.started": "2024-10-08T21:13:07.534273Z"
    },
    "papermill": {
     "duration": null,
     "end_time": null,
     "exception": null,
     "start_time": null,
     "status": "pending"
    },
    "tags": []
   },
   "outputs": [],
   "source": [
    "i = 1\n",
    "\n",
    "while i <= 10 :\n",
    "    print(i)\n",
    "    i += 1 \n",
    "else:\n",
    "    print(\"The Condition Not True\")"
   ]
  },
  {
   "cell_type": "code",
   "execution_count": null,
   "id": "9d4943b6",
   "metadata": {
    "execution": {
     "iopub.execute_input": "2024-10-08T21:15:38.270487Z",
     "iopub.status.busy": "2024-10-08T21:15:38.270000Z",
     "iopub.status.idle": "2024-10-08T21:15:38.278387Z",
     "shell.execute_reply": "2024-10-08T21:15:38.276815Z",
     "shell.execute_reply.started": "2024-10-08T21:15:38.270445Z"
    },
    "papermill": {
     "duration": null,
     "end_time": null,
     "exception": null,
     "start_time": null,
     "status": "pending"
    },
    "tags": []
   },
   "outputs": [],
   "source": [
    "i = 0\n",
    "\n",
    "while i <= 10 :\n",
    "    i += 1\n",
    "    if i == 5 :\n",
    "        continue \n",
    "    print(i)\n",
    "else :\n",
    "    print(\"The Condition Not True\")"
   ]
  },
  {
   "cell_type": "code",
   "execution_count": null,
   "id": "5742673c",
   "metadata": {
    "execution": {
     "iopub.execute_input": "2024-10-08T21:16:51.076302Z",
     "iopub.status.busy": "2024-10-08T21:16:51.075017Z",
     "iopub.status.idle": "2024-10-08T21:16:51.083049Z",
     "shell.execute_reply": "2024-10-08T21:16:51.081799Z",
     "shell.execute_reply.started": "2024-10-08T21:16:51.076249Z"
    },
    "papermill": {
     "duration": null,
     "end_time": null,
     "exception": null,
     "start_time": null,
     "status": "pending"
    },
    "tags": []
   },
   "outputs": [],
   "source": [
    "i = 1\n",
    "\n",
    "while i <= 10 :\n",
    "    i += 1 \n",
    "    if i == 5 :\n",
    "        break \n",
    "    print(i)\n",
    "else :\n",
    "    print(\"The Condition Finished\")"
   ]
  },
  {
   "cell_type": "markdown",
   "id": "dceb3035",
   "metadata": {
    "papermill": {
     "duration": null,
     "end_time": null,
     "exception": null,
     "start_time": null,
     "status": "pending"
    },
    "tags": []
   },
   "source": [
    "# For Loops"
   ]
  },
  {
   "cell_type": "code",
   "execution_count": null,
   "id": "07aa2ff0",
   "metadata": {
    "execution": {
     "iopub.execute_input": "2024-10-08T21:18:51.330892Z",
     "iopub.status.busy": "2024-10-08T21:18:51.330217Z",
     "iopub.status.idle": "2024-10-08T21:18:51.339480Z",
     "shell.execute_reply": "2024-10-08T21:18:51.338147Z",
     "shell.execute_reply.started": "2024-10-08T21:18:51.330828Z"
    },
    "papermill": {
     "duration": null,
     "end_time": null,
     "exception": null,
     "start_time": null,
     "status": "pending"
    },
    "tags": []
   },
   "outputs": [],
   "source": [
    "list = [ 1 , 2 , 3 , 4 , 5 , 6 , 7 , 8 , 9 , 10 ]\n",
    "\n",
    "for i in list:\n",
    "    print(i)"
   ]
  },
  {
   "cell_type": "code",
   "execution_count": null,
   "id": "c7c9d7f1",
   "metadata": {
    "execution": {
     "iopub.execute_input": "2024-10-08T21:19:22.226409Z",
     "iopub.status.busy": "2024-10-08T21:19:22.225880Z",
     "iopub.status.idle": "2024-10-08T21:19:22.233821Z",
     "shell.execute_reply": "2024-10-08T21:19:22.232314Z",
     "shell.execute_reply.started": "2024-10-08T21:19:22.226362Z"
    },
    "papermill": {
     "duration": null,
     "end_time": null,
     "exception": null,
     "start_time": null,
     "status": "pending"
    },
    "tags": []
   },
   "outputs": [],
   "source": [
    "for x in \"YOUSSEF\":\n",
    "    print(x)"
   ]
  },
  {
   "cell_type": "code",
   "execution_count": null,
   "id": "42a3ad55",
   "metadata": {
    "execution": {
     "iopub.execute_input": "2024-10-08T21:20:15.478397Z",
     "iopub.status.busy": "2024-10-08T21:20:15.477903Z",
     "iopub.status.idle": "2024-10-08T21:20:15.485651Z",
     "shell.execute_reply": "2024-10-08T21:20:15.483852Z",
     "shell.execute_reply.started": "2024-10-08T21:20:15.478353Z"
    },
    "papermill": {
     "duration": null,
     "end_time": null,
     "exception": null,
     "start_time": null,
     "status": "pending"
    },
    "tags": []
   },
   "outputs": [],
   "source": [
    "name = [\"ahmed\" , \"omar\" ,\"ali\" ,\"youssef\" ,\"mohamed\"]\n",
    "\n",
    "for j in name:\n",
    "    print(j)"
   ]
  },
  {
   "cell_type": "code",
   "execution_count": null,
   "id": "5b411de6",
   "metadata": {
    "execution": {
     "iopub.execute_input": "2024-10-08T21:21:00.700526Z",
     "iopub.status.busy": "2024-10-08T21:21:00.699968Z",
     "iopub.status.idle": "2024-10-08T21:21:00.707470Z",
     "shell.execute_reply": "2024-10-08T21:21:00.705777Z",
     "shell.execute_reply.started": "2024-10-08T21:21:00.700481Z"
    },
    "papermill": {
     "duration": null,
     "end_time": null,
     "exception": null,
     "start_time": null,
     "status": "pending"
    },
    "tags": []
   },
   "outputs": [],
   "source": [
    "for z in range(10):\n",
    "    print(z)"
   ]
  },
  {
   "cell_type": "code",
   "execution_count": null,
   "id": "800c6a66",
   "metadata": {
    "execution": {
     "iopub.execute_input": "2024-10-08T21:21:24.441731Z",
     "iopub.status.busy": "2024-10-08T21:21:24.441229Z",
     "iopub.status.idle": "2024-10-08T21:21:24.449085Z",
     "shell.execute_reply": "2024-10-08T21:21:24.447575Z",
     "shell.execute_reply.started": "2024-10-08T21:21:24.441684Z"
    },
    "papermill": {
     "duration": null,
     "end_time": null,
     "exception": null,
     "start_time": null,
     "status": "pending"
    },
    "tags": []
   },
   "outputs": [],
   "source": [
    "for i in range(0,11):\n",
    "    print(i)"
   ]
  },
  {
   "cell_type": "code",
   "execution_count": null,
   "id": "b6c2c082",
   "metadata": {
    "execution": {
     "iopub.execute_input": "2024-10-08T21:21:51.062363Z",
     "iopub.status.busy": "2024-10-08T21:21:51.061504Z",
     "iopub.status.idle": "2024-10-08T21:21:51.069975Z",
     "shell.execute_reply": "2024-10-08T21:21:51.068475Z",
     "shell.execute_reply.started": "2024-10-08T21:21:51.062313Z"
    },
    "papermill": {
     "duration": null,
     "end_time": null,
     "exception": null,
     "start_time": null,
     "status": "pending"
    },
    "tags": []
   },
   "outputs": [],
   "source": [
    "for i in range(0,11,2):\n",
    "    print(i)"
   ]
  },
  {
   "cell_type": "markdown",
   "id": "37691b98",
   "metadata": {
    "papermill": {
     "duration": null,
     "end_time": null,
     "exception": null,
     "start_time": null,
     "status": "pending"
    },
    "tags": []
   },
   "source": [
    "# Python Project \n",
    "### Building a calculator "
   ]
  },
  {
   "cell_type": "code",
   "execution_count": null,
   "id": "955d9e0e",
   "metadata": {
    "collapsed": true,
    "execution": {
     "iopub.execute_input": "2024-10-09T19:34:38.027221Z",
     "iopub.status.busy": "2024-10-09T19:34:38.026769Z",
     "iopub.status.idle": "2024-10-09T19:34:40.587582Z",
     "shell.execute_reply": "2024-10-09T19:34:40.585417Z",
     "shell.execute_reply.started": "2024-10-09T19:34:38.027178Z"
    },
    "jupyter": {
     "outputs_hidden": true
    },
    "papermill": {
     "duration": null,
     "end_time": null,
     "exception": null,
     "start_time": null,
     "status": "pending"
    },
    "tags": []
   },
   "outputs": [],
   "source": [
    "num1 = float(input(\"Enter Your Number : \"))\n",
    "operator = input(\"Enter Your Operator : \")\n",
    "num2 = float(input(\"Enter Your Number : \"))\n",
    "\n",
    "if operator == \"+\" :\n",
    "    print(num1 + num2)\n",
    "    \n",
    "elif operator == \"-\" :\n",
    "    print(num1 - num2)\n",
    "    \n",
    "elif operator == \"*\" :\n",
    "    print(num1 * num2)\n",
    "    \n",
    "elif operator == \"/\" :\n",
    "    print(num1 / num2)\n",
    "    \n",
    "elif operator == \"%\" :\n",
    "    print(num1 % num2)\n",
    "    \n",
    "else :\n",
    "    print(\"Error , Please try Again\")"
   ]
  },
  {
   "cell_type": "code",
   "execution_count": null,
   "id": "f9e38235",
   "metadata": {
    "papermill": {
     "duration": null,
     "end_time": null,
     "exception": null,
     "start_time": null,
     "status": "pending"
    },
    "tags": []
   },
   "outputs": [],
   "source": []
  }
 ],
 "metadata": {
  "kaggle": {
   "accelerator": "none",
   "dataSources": [],
   "dockerImageVersionId": 30786,
   "isGpuEnabled": false,
   "isInternetEnabled": true,
   "language": "python",
   "sourceType": "notebook"
  },
  "kernelspec": {
   "display_name": "Python 3",
   "language": "python",
   "name": "python3"
  },
  "language_info": {
   "codemirror_mode": {
    "name": "ipython",
    "version": 3
   },
   "file_extension": ".py",
   "mimetype": "text/x-python",
   "name": "python",
   "nbconvert_exporter": "python",
   "pygments_lexer": "ipython3",
   "version": "3.10.14"
  },
  "papermill": {
   "default_parameters": {},
   "duration": 11.019615,
   "end_time": "2024-10-09T19:36:38.103009",
   "environment_variables": {},
   "exception": true,
   "input_path": "__notebook__.ipynb",
   "output_path": "__notebook__.ipynb",
   "parameters": {},
   "start_time": "2024-10-09T19:36:27.083394",
   "version": "2.6.0"
  }
 },
 "nbformat": 4,
 "nbformat_minor": 5
}
